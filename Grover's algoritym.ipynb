{
 "cells": [
  {
   "cell_type": "code",
   "execution_count": 3,
   "id": "ad22225c-0c70-4b1b-a65e-f7f1108d46fd",
   "metadata": {},
   "outputs": [],
   "source": [
    "from qiskit import*\n",
    "import matplotlib.pyplot as plt\n",
    "import numpy as np"
   ]
  },
  {
   "cell_type": "code",
   "execution_count": 4,
   "id": "9bd1cc7a-f7ec-4e23-b4dc-c09aab1c9e39",
   "metadata": {},
   "outputs": [
    {
     "data": {
      "image/png": "[encoded data removed]",
      "text/plain": [
       "<Figure size 146.652x144.48 with 1 Axes>"
      ]
     },
     "execution_count": 4,
     "metadata": {},
     "output_type": "execute_result"
    }
   ],
   "source": [
    "#defining thr oracle\n",
    "oracle = QuantumCircuit(2,name='oracle')\n",
    "oracle.cz(0,1)\n",
    "oracle.to_gate()\n",
    "oracle.draw()"
   ]
  },
  {
   "cell_type": "code",
   "execution_count": 5,
   "id": "ddf2b148-f6ca-49ad-9cb7-05118c5ed8e0",
   "metadata": {},
   "outputs": [
    {
     "name": "stderr",
     "output_type": "stream",
     "text": [
      "<frozen importlib._bootstrap>:219: RuntimeWarning: scipy._lib.messagestream.MessageStream size changed, may indicate binary incompatibility. Expected 56 from C header, got 64 from PyObject\n"
     ]
    },
    {
     "data": {
      "image/png": "[encoded data removed]",
      "text/plain": [
       "<Figure size 146.652x204.68 with 1 Axes>"
      ]
     },
     "execution_count": 5,
     "metadata": {},
     "output_type": "execute_result"
    }
   ],
   "source": [
    "backend = Aer.get_backend('statevector_simulator')\n",
    "grover_circuit = QuantumCircuit(2,2) #2 quantum register and 2 classical register\n",
    "grover_circuit.h([0,1])\n",
    "grover_circuit.draw()"
   ]
  },
  {
   "cell_type": "code",
   "execution_count": 6,
   "id": "07362b42-8034-411e-bdb6-985cf34d156b",
   "metadata": {},
   "outputs": [],
   "source": [
    "job = execute(grover_circuit,backend) #execute grovercircuit\n",
    "result = job.result()"
   ]
  },
  {
   "cell_type": "code",
   "execution_count": 13,
   "id": "43b74116-23c6-4341-a629-732fc02d8e05",
   "metadata": {},
   "outputs": [
    {
     "data": {
      "text/plain": [
       "array([0.5+0.j, 0.5+0.j, 0.5+0.j, 0.5+0.j])"
      ]
     },
     "execution_count": 13,
     "metadata": {},
     "output_type": "execute_result"
    }
   ],
   "source": [
    "sv = result.get_statevector()\n",
    "np.around(sv,2)"
   ]
  },
  {
   "cell_type": "code",
   "execution_count": 16,
   "id": "444ce92a-099a-46cf-87d6-c99c454722f0",
   "metadata": {},
   "outputs": [
    {
     "data": {
      "text/plain": [
       "Instruction(name='reflection', num_qubits=2, num_clbits=0, params=[])"
      ]
     },
     "execution_count": 16,
     "metadata": {},
     "output_type": "execute_result"
    }
   ],
   "source": [
    "#initiating reflection operation\n",
    "reflection = QuantumCircuit(2,name='reflection')\n",
    "reflection.h([0,1])\n",
    "reflection.z([0,1])\n",
    "reflection.cz(0,1)\n",
    "reflection.h([0,1])\n",
    "reflection.to_gate()"
   ]
  },
  {
   "cell_type": "code",
   "execution_count": 18,
   "id": "2a86ed19-b903-4a4b-9c2c-ae7a77fd9032",
   "metadata": {},
   "outputs": [
    {
     "data": {
      "image/png": "[encoded data removed]",
      "text/plain": [
       "<Figure size 327.252x144.48 with 1 Axes>"
      ]
     },
     "execution_count": 18,
     "metadata": {},
     "output_type": "execute_result"
    }
   ],
   "source": [
    "reflection.draw()"
   ]
  },
  {
   "cell_type": "code",
   "execution_count": 20,
   "id": "2aa92d56-a5f5-4a07-b358-64b69a131b9f",
   "metadata": {},
   "outputs": [
    {
     "data": {
      "text/plain": [
       "<qiskit.circuit.instructionset.InstructionSet at 0x7fd3fb575280>"
      ]
     },
     "execution_count": 20,
     "metadata": {},
     "output_type": "execute_result"
    }
   ],
   "source": [
    "backend = Aer.get_backend('qasm_simulator')\n",
    "grover_circuit = QuantumCircuit(2,2)\n",
    "grover_circuit.h([0,1])\n",
    "grover_circuit.append(oracle,[0,1])\n",
    "grover_circuit.append(reflection,[0,1])\n",
    "grover_circuit.measure([0,1],[0,1])"
   ]
  },
  {
   "cell_type": "code",
   "execution_count": 21,
   "id": "128126b2-ac61-47d9-ac1b-ec97640514b9",
   "metadata": {},
   "outputs": [
    {
     "data": {
      "image/png": "[encoded data removed]",
      "text/plain": [
       "<Figure size 507.852x204.68 with 1 Axes>"
      ]
     },
     "execution_count": 21,
     "metadata": {},
     "output_type": "execute_result"
    }
   ],
   "source": [
    "grover_circuit.draw()"
   ]
  },
  {
   "cell_type": "code",
   "execution_count": 23,
   "id": "bdaa09ad-fdc1-47a4-80e5-0053f4892bac",
   "metadata": {},
   "outputs": [
    {
     "data": {
      "text/plain": [
       "{'11': 1}"
      ]
     },
     "execution_count": 23,
     "metadata": {},
     "output_type": "execute_result"
    }
   ],
   "source": [
    "job=execute(grover_circuit,backend,shots=1) #execute the job\n",
    "result=job.result()\n",
    "result.get_counts()"
   ]
  },
  {
   "cell_type": "code",
   "execution_count": null,
   "id": "84b8c345-bd01-4b3b-9299-685fcf623482",
   "metadata": {},
   "outputs": [],
   "source": []
  }
 ],
 "metadata": {
  "kernelspec": {
   "display_name": "Python 3 (ipykernel)",
   "language": "python",
   "name": "python3"
  },
  "language_info": {
   "codemirror_mode": {
    "name": "ipython",
    "version": 3
   },
   "file_extension": ".py",
   "mimetype": "text/x-python",
   "name": "python",
   "nbconvert_exporter": "python",
   "pygments_lexer": "ipython3",
   "version": "3.8.13"
  },
  "widgets": {
   "application/vnd.jupyter.widget-state+json": {
    "state": {},
    "version_major": 2,
    "version_minor": 0
   }
  }
 },
 "nbformat": 4,
 "nbformat_minor": 5
}
